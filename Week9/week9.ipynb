{
 "cells": [
  {
   "cell_type": "markdown",
   "metadata": {},
   "source": [
    "Create a concentric square image, with inner square pixel intensity values as 125 and outer square as 0 everywhere. Find the projection along the row, column, diagonal with 45 degree and 135 degree. Reconstruct the image by applying back projection algorithm using the following ways\n",
    "1. the row projection only \n",
    "2. the row and column projections \n",
    "3. the row and column and diagonal 45 degree projections \n",
    "4. the row and column and diagonal 45 and 135 degree projections "
   ]
  },
  {
   "cell_type": "code",
   "execution_count": 63,
   "metadata": {},
   "outputs": [],
   "source": [
    "from collections import defaultdict\n",
    "import numpy as np\n",
    "\n",
    "# This class represents a directed graph\n",
    "# using adjacency matrix representation\n",
    "class Graph:\n",
    "\n",
    "\tdef __init__(self, graph):\n",
    "\t\tself.graph = graph # residual graph\n",
    "\t\tself. ROW = len(graph)\n",
    "\t\t# self.COL = len(gr[0])\n",
    "\n",
    "\t'''Returns true if there is a path from source 's' to sink 't' in\n",
    "\tresidual graph. Also fills parent[] to store the path '''\n",
    "\n",
    "\tdef BFS(self, s, t, parent):\n",
    "\n",
    "\t\t# Mark all the vertices as not visited\n",
    "\t\tvisited = [False]*(self.ROW)\n",
    "\n",
    "\t\t# Create a queue for BFS\n",
    "\t\tqueue = []\n",
    "\n",
    "\t\t# Mark the source node as visited and enqueue it\n",
    "\t\tqueue.append(s)\n",
    "\t\tvisited[s] = True\n",
    "\n",
    "\t\t# Standard BFS Loop\n",
    "\t\twhile queue:\n",
    "\n",
    "\t\t\t# Dequeue a vertex from queue and print it\n",
    "\t\t\tu = queue.pop(0)\n",
    "\n",
    "\t\t\t# Get all adjacent vertices of the dequeued vertex u\n",
    "\t\t\t# If a adjacent has not been visited, then mark it\n",
    "\t\t\t# visited and enqueue it\n",
    "\t\t\tfor ind, val in enumerate(self.graph[u]):\n",
    "\t\t\t\tif visited[ind] == False and val > 0:\n",
    "\t\t\t\t\t# If we find a connection to the sink node,\n",
    "\t\t\t\t\t# then there is no point in BFS anymore\n",
    "\t\t\t\t\t# We just have to set its parent and can return true\n",
    "\t\t\t\t\tqueue.append(ind)\n",
    "\t\t\t\t\tvisited[ind] = True\n",
    "\t\t\t\t\tparent[ind] = u\n",
    "\t\t\t\t\tif ind == t:\n",
    "\t\t\t\t\t\treturn True\n",
    "\n",
    "\t\t# We didn't reach sink in BFS starting\n",
    "\t\t# from source, so return false\n",
    "\t\treturn False\n",
    "\t\t\t\n",
    "\t\n",
    "\t# Returns the maximum flow from s to t in the given graph\n",
    "\tdef FordFulkerson(self, source, sink):\n",
    "\n",
    "\t\t# This array is filled by BFS and to store path\n",
    "\t\tparent = [-1]*(self.ROW)\n",
    "\n",
    "\t\tmax_flow = 0 # There is no flow initially\n",
    "\n",
    "\t\t# Augment the flow while there is path from source to sink\n",
    "\t\twhile self.BFS(source, sink, parent) :\n",
    "\n",
    "\t\t\t# Find minimum residual capacity of the edges along the\n",
    "\t\t\t# path filled by BFS. Or we can say find the maximum flow\n",
    "\t\t\t# through the path found.\n",
    "\t\t\tpath_flow = float(\"Inf\")\n",
    "\t\t\ts = sink\n",
    "\t\t\twhile(s != source):\n",
    "\t\t\t\tpath_flow = min (path_flow, self.graph[parent[s]][s])\n",
    "\t\t\t\ts = parent[s]\n",
    "\n",
    "\t\t\t# Add path flow to overall flow\n",
    "\t\t\tmax_flow += path_flow\n",
    "\n",
    "\t\t\t# update residual capacities of the edges and reverse edges\n",
    "\t\t\t# along the path\n",
    "\t\t\tv = sink\n",
    "\t\t\twhile(v != source):\n",
    "\t\t\t\tu = parent[v]\n",
    "\t\t\t\tself.graph[u][v] -= path_flow\n",
    "\t\t\t\tself.graph[v][u] += path_flow\n",
    "\t\t\t\tv = parent[v]\n",
    "\n",
    "\t\n",
    "\t\tfor i in range(self.ROW):\n",
    "\t\t\tprint(self.graph[i])\n",
    "\t\t\n",
    "\t\treturn self.graph\n",
    "\t\t"
   ]
  },
  {
   "cell_type": "code",
   "execution_count": 64,
   "metadata": {},
   "outputs": [
    {
     "data": {
      "text/plain": [
       "<matplotlib.image.AxesImage at 0x10339d837c8>"
      ]
     },
     "execution_count": 64,
     "metadata": {},
     "output_type": "execute_result"
    },
    {
     "data": {
      "image/png": "[encoded data removed]",
      "text/plain": [
       "<Figure size 432x288 with 1 Axes>"
      ]
     },
     "metadata": {
      "needs_background": "light"
     },
     "output_type": "display_data"
    }
   ],
   "source": [
    "import numpy as np\n",
    "import cv2\n",
    "import matplotlib.pyplot as plt\n",
    "from PIL import Image \n",
    "\n",
    "array=np.array([[0,0,0],\n",
    "                [0,125,0],\n",
    "                [0,0,0]])\n",
    "image=Image.fromarray(array)\n",
    "plt.title(\"Original Image\")\n",
    "plt.imshow(image,cmap='gray')"
   ]
  },
  {
   "cell_type": "code",
   "execution_count": 73,
   "metadata": {},
   "outputs": [
    {
     "name": "stdout",
     "output_type": "stream",
     "text": [
      "[  0 125   0]\n"
     ]
    },
    {
     "data": {
      "text/plain": [
       "<matplotlib.image.AxesImage at 0x10337b1d648>"
      ]
     },
     "execution_count": 73,
     "metadata": {},
     "output_type": "execute_result"
    },
    {
     "data": {
      "image/png": "[encoded data removed]",
      "text/plain": [
       "<Figure size 432x288 with 1 Axes>"
      ]
     },
     "metadata": {
      "needs_background": "light"
     },
     "output_type": "display_data"
    }
   ],
   "source": [
    "rowprojection=np.sum(array,axis=1)\n",
    "print(rowprojection)\n",
    "rowT=np.transpose(rowprojection)\n",
    "rowprojection_img=np.array([rowT,rowT,rowT])\n",
    "rowImage=Image.fromarray(rowprojection_img)\n",
    "plt.title(\"Image of PR\")\n",
    "plt.imshow(rowImage,cmap='gray')\n"
   ]
  },
  {
   "cell_type": "code",
   "execution_count": 66,
   "metadata": {},
   "outputs": [
    {
     "name": "stdout",
     "output_type": "stream",
     "text": [
      "[  0 125   0]\n",
      "[  0 125   0]\n"
     ]
    }
   ],
   "source": [
    "rowprojection=np.sum(array,axis=1)\n",
    "print(rowprojection)\n",
    "colprojection=np.sum(array,axis=0)\n",
    "print(colprojection)"
   ]
  },
  {
   "cell_type": "code",
   "execution_count": 67,
   "metadata": {},
   "outputs": [
    {
     "name": "stdout",
     "output_type": "stream",
     "text": [
      "[[  0   0 125   0   0   0   0   0]\n",
      " [  0   0   0   0 125 125 125   0]\n",
      " [  0   0   0   0 125 125 125   0]\n",
      " [  0   0   0   0 125 125 125   0]\n",
      " [  0   0   0   0   0   0   0   0]\n",
      " [  0   0   0   0   0   0   0 125]\n",
      " [  0   0   0   0   0   0   0   0]\n",
      " [  0   0   0   0   0   0   0   0]]\n"
     ]
    }
   ],
   "source": [
    "graph=(8,8)\n",
    "graph=np.zeros(graph,dtype=int)\n",
    "graph[0][1]=rowprojection[0]\n",
    "graph[0][2]=rowprojection[1]\n",
    "graph[0][3]=rowprojection[2]\n",
    "\n",
    "graph[4][7]=colprojection[0]\n",
    "graph[5][7]=colprojection[1]\n",
    "graph[6][7]=colprojection[2]\n",
    "\n",
    "for i in range(4,7):\n",
    "    for j in range(1,4):\n",
    "        graph[j][i]=125\n",
    "    \n",
    "\n",
    "\n",
    "print(graph)"
   ]
  },
  {
   "cell_type": "code",
   "execution_count": 72,
   "metadata": {},
   "outputs": [
    {
     "name": "stdout",
     "output_type": "stream",
     "text": [
      "[0 0 0 0 0 0 0 0]\n",
      "[  0   0   0   0 125 125 125   0]\n",
      "[125   0   0   0 125   0 125   0]\n",
      "[  0   0   0   0 125 125 125   0]\n",
      "[0 0 0 0 0 0 0 0]\n",
      "[  0   0 125   0   0   0   0   0]\n",
      "[0 0 0 0 0 0 0 0]\n",
      "[  0   0   0   0   0 125   0   0]\n",
      "Matrix [[  0   0   0 125 125 125]\n",
      " [  0   0   0 125   0 125]\n",
      " [  0   0   0 125 125 125]\n",
      " [  0   0   0   0   0   0]\n",
      " [  0 125   0   0   0   0]\n",
      " [  0   0   0   0   0   0]]\n",
      "image [[  0   0   0]\n",
      " [  0 125   0]\n",
      " [  0   0   0]]\n"
     ]
    },
    {
     "data": {
      "text/plain": [
       "<matplotlib.image.AxesImage at 0x1033a342608>"
      ]
     },
     "execution_count": 72,
     "metadata": {},
     "output_type": "execute_result"
    },
    {
     "data": {
      "image/png": "[encoded data removed]",
      "text/plain": [
       "<Figure size 432x288 with 1 Axes>"
      ]
     },
     "metadata": {
      "needs_background": "light"
     },
     "output_type": "display_data"
    }
   ],
   "source": [
    "g = Graph(graph)\n",
    "source = 0; sink = 7\n",
    "residual=g.FordFulkerson(source, sink)\n",
    "residual=np.array(residual)\n",
    "matrix=residual[1:7,1:7]\n",
    "print(\"Matrix\",matrix)\n",
    "\n",
    "image=np.transpose(matrix[3:6,0:3])\n",
    "print(\"image\",image)\n",
    "image=np.array(image)\n",
    "image=Image.fromarray(image)\n",
    "plt.title(\"Image from PR+PC\")\n",
    "plt.imshow(image,cmap='gray')"
   ]
  },
  {
   "cell_type": "code",
   "execution_count": null,
   "metadata": {},
   "outputs": [],
   "source": [
    "colprojection=np.sum(array,axis=0)\n",
    "colprojection_img=np.array([colprojection,colprojection,colprojection,colprojection])\n",
    "colimage=Image.fromarray(colprojection_img)\n",
    "plt.imshow(colimage,cmap='gray')"
   ]
  },
  {
   "cell_type": "code",
   "execution_count": 76,
   "metadata": {},
   "outputs": [
    {
     "name": "stdout",
     "output_type": "stream",
     "text": [
      "[0, 0, 125, 0, 0]\n"
     ]
    }
   ],
   "source": [
    "projection45deg = []\n",
    "for i in range(-2,3):\n",
    "        projection45deg.append(np.trace(array,i))\n",
    "\n",
    "print(projection45deg)"
   ]
  },
  {
   "cell_type": "code",
   "execution_count": 70,
   "metadata": {},
   "outputs": [
    {
     "name": "stdout",
     "output_type": "stream",
     "text": [
      "[0, 0, 0, 125, 0, 0, 0]\n"
     ]
    },
    {
     "data": {
      "text/plain": [
       "<matplotlib.image.AxesImage at 0x1033a216448>"
      ]
     },
     "execution_count": 70,
     "metadata": {},
     "output_type": "execute_result"
    },
    {
     "data": {
      "image/png": "[encoded data removed]",
      "text/plain": [
       "<Figure size 432x288 with 1 Axes>"
      ]
     },
     "metadata": {
      "needs_background": "light"
     },
     "output_type": "display_data"
    }
   ],
   "source": [
    "projection135deg = []\n",
    "for i in range(3,-4,-1):\t\n",
    "        projection135deg.append(np.trace(array,i))\n",
    "\n",
    "print(projection135deg)\n",
    "projection135deg_img=np.array([projection135deg,projection135deg,projection135deg,\n",
    "                                projection135deg,projection135deg,projection135deg])\n",
    "pro135image=Image.fromarray(projection135deg_img)\n",
    "plt.imshow(pro135image,cmap='gray')"
   ]
  },
  {
   "cell_type": "code",
   "execution_count": 71,
   "metadata": {},
   "outputs": [
    {
     "data": {
      "image/png": "[encoded data removed]",
      "text/plain": [
       "<Figure size 432x288 with 1 Axes>"
      ]
     },
     "metadata": {
      "needs_background": "light"
     },
     "output_type": "display_data"
    },
    {
     "ename": "NameError",
     "evalue": "name 'colprojection_img' is not defined",
     "output_type": "error",
     "traceback": [
      "\u001b[1;31m---------------------------------------------------------------------------\u001b[0m",
      "\u001b[1;31mNameError\u001b[0m                                 Traceback (most recent call last)",
      "\u001b[1;32m~\\AppData\\Local\\Temp/ipykernel_15596/476034874.py\u001b[0m in \u001b[0;36m<module>\u001b[1;34m\u001b[0m\n\u001b[0;32m      6\u001b[0m \u001b[1;33m\u001b[0m\u001b[0m\n\u001b[0;32m      7\u001b[0m \u001b[1;31m#pr_pc\u001b[0m\u001b[1;33m\u001b[0m\u001b[1;33m\u001b[0m\u001b[1;33m\u001b[0m\u001b[0m\n\u001b[1;32m----> 8\u001b[1;33m \u001b[0mpr_pc\u001b[0m\u001b[1;33m=\u001b[0m\u001b[0mrowprojection_img\u001b[0m\u001b[1;33m+\u001b[0m\u001b[0mcolprojection_img\u001b[0m\u001b[1;33m\u001b[0m\u001b[1;33m\u001b[0m\u001b[0m\n\u001b[0m\u001b[0;32m      9\u001b[0m \u001b[0mplt\u001b[0m\u001b[1;33m.\u001b[0m\u001b[0mimshow\u001b[0m\u001b[1;33m(\u001b[0m\u001b[0mpr_pc\u001b[0m\u001b[1;33m,\u001b[0m\u001b[0mcmap\u001b[0m\u001b[1;33m=\u001b[0m\u001b[1;34m'gray'\u001b[0m\u001b[1;33m)\u001b[0m\u001b[1;33m\u001b[0m\u001b[1;33m\u001b[0m\u001b[0m\n\u001b[0;32m     10\u001b[0m \u001b[0mplt\u001b[0m\u001b[1;33m.\u001b[0m\u001b[0mshow\u001b[0m\u001b[1;33m(\u001b[0m\u001b[1;33m)\u001b[0m\u001b[1;33m\u001b[0m\u001b[1;33m\u001b[0m\u001b[0m\n",
      "\u001b[1;31mNameError\u001b[0m: name 'colprojection_img' is not defined"
     ]
    }
   ],
   "source": [
    "#Ques1\n",
    "\n",
    "#pr\n",
    "plt.imshow(rowimage,cmap='gray')\n",
    "plt.show()\n",
    "\n",
    "#pr_pc\n",
    "pr_pc=rowprojection_img+colprojection_img\n",
    "plt.imshow(pr_pc,cmap='gray')\n",
    "plt.show()\n",
    "\n",
    "#pr_pc_p45\n",
    "rowprojection_img=np.pad(rowprojection_img,1,'constant',constant_values=0)\n",
    "#add a zero row on top\n",
    "rowprojection_img=np.insert(rowprojection_img,0,0,axis=0)\n",
    "#add a zero column on right\n",
    "rowprojection_img=np.insert(rowprojection_img,5,0,axis=1)\n",
    "print(rowprojection_img)\n",
    "print(rowprojection_img.shape)\n",
    "\n",
    "colprojection_img=np.pad(colprojection_img,1,'constant',constant_values=0)\n",
    "#add a zero row on top\n",
    "colprojection_img=np.insert(colprojection_img,0,0,axis=0)\n",
    "#add a zero column on right\n",
    "colprojection_img=np.insert(colprojection_img,5,0,axis=1)\n",
    "print(colprojection_img)\n",
    "print(colprojection_img.shape)\n",
    "print(projection45deg_img.shape)\n",
    "\n",
    "pr_pc_p45=rowprojection_img+colprojection_img+projection45deg_img\n",
    "plt.imshow(pr_pc_p45,cmap='gray')\n",
    "plt.show()\n",
    "\n",
    "#pr_pc_p45_p135\n",
    "\n",
    "pr_pc_p45_p135=rowprojection_img+colprojection_img+projection45deg_img+projection135deg_img\n",
    "plt.imshow(pr_pc_p45_p135,cmap='gray')\n",
    "plt.show()\n"
   ]
  },
  {
   "cell_type": "code",
   "execution_count": null,
   "metadata": {},
   "outputs": [],
   "source": [
    "# Python program for implementation\n",
    "# of Ford Fulkerson algorithm\n",
    "from collections import defaultdict\n",
    "\n",
    "# This class represents a directed graph\n",
    "# using adjacency matrix representation\n",
    "class Graph:\n",
    "\n",
    "\tdef __init__(self, graph):\n",
    "\t\tself.graph = graph # residual graph\n",
    "\t\tself. ROW = len(graph)\n",
    "\t\t# self.COL = len(gr[0])\n",
    "\n",
    "\t'''Returns true if there is a path from source 's' to sink 't' in\n",
    "\tresidual graph. Also fills parent[] to store the path '''\n",
    "\n",
    "\tdef BFS(self, s, t, parent):\n",
    "\n",
    "\t\t# Mark all the vertices as not visited\n",
    "\t\tvisited = [False]*(self.ROW)\n",
    "\n",
    "\t\t# Create a queue for BFS\n",
    "\t\tqueue = []\n",
    "\n",
    "\t\t# Mark the source node as visited and enqueue it\n",
    "\t\tqueue.append(s)\n",
    "\t\tvisited[s] = True\n",
    "\n",
    "\t\t# Standard BFS Loop\n",
    "\t\twhile queue:\n",
    "\n",
    "\t\t\t# Dequeue a vertex from queue and print it\n",
    "\t\t\tu = queue.pop(0)\n",
    "\n",
    "\t\t\t# Get all adjacent vertices of the dequeued vertex u\n",
    "\t\t\t# If a adjacent has not been visited, then mark it\n",
    "\t\t\t# visited and enqueue it\n",
    "\t\t\tfor ind, val in enumerate(self.graph[u]):\n",
    "\t\t\t\tif visited[ind] == False and val > 0:\n",
    "\t\t\t\t\t# If we find a connection to the sink node,\n",
    "\t\t\t\t\t# then there is no point in BFS anymore\n",
    "\t\t\t\t\t# We just have to set its parent and can return true\n",
    "\t\t\t\t\tqueue.append(ind)\n",
    "\t\t\t\t\tvisited[ind] = True\n",
    "\t\t\t\t\tparent[ind] = u\n",
    "\t\t\t\t\tif ind == t:\n",
    "\t\t\t\t\t\treturn True\n",
    "\n",
    "\t\t# We didn't reach sink in BFS starting\n",
    "\t\t# from source, so return false\n",
    "\t\treturn False\n",
    "\t\t\t\n",
    "\t\n",
    "\t# Returns the maximum flow from s to t in the given graph\n",
    "\tdef FordFulkerson(self, source, sink):\n",
    "\n",
    "\t\t# This array is filled by BFS and to store path\n",
    "\t\tparent = [-1]*(self.ROW)\n",
    "\n",
    "\t\tmax_flow = 0 # There is no flow initially\n",
    "\n",
    "\t\t# Augment the flow while there is path from source to sink\n",
    "\t\twhile self.BFS(source, sink, parent) :\n",
    "\n",
    "\t\t\t# Find minimum residual capacity of the edges along the\n",
    "\t\t\t# path filled by BFS. Or we can say find the maximum flow\n",
    "\t\t\t# through the path found.\n",
    "\t\t\tpath_flow = float(\"Inf\")\n",
    "\t\t\ts = sink\n",
    "\t\t\twhile(s != source):\n",
    "\t\t\t\tpath_flow = min (path_flow, self.graph[parent[s]][s])\n",
    "\t\t\t\ts = parent[s]\n",
    "\n",
    "\t\t\t# Add path flow to overall flow\n",
    "\t\t\tmax_flow += path_flow\n",
    "\n",
    "\t\t\t# update residual capacities of the edges and reverse edges\n",
    "\t\t\t# along the path\n",
    "\t\t\tv = sink\n",
    "\t\t\twhile(v != source):\n",
    "\t\t\t\tu = parent[v]\n",
    "\t\t\t\tself.graph[u][v] -= path_flow\n",
    "\t\t\t\tself.graph[v][u] += path_flow\n",
    "\t\t\t\tv = parent[v]\n",
    "\n",
    "    \n",
    "\t\tfor i in range(self.ROW):\n",
    "            print(self.graph[i])\n",
    "        \n",
    "\n",
    "\n",
    "# Create a graph given in the above diagram\n",
    "\n",
    "graph =[[0,\t2,\t2\t,1\t,0\t,0\t,0\t,0],\n",
    "    \t[0,\t0,\t0\t,0\t,1\t,3\t,1\t,0],\n",
    "        [0,\t0,\t0\t,0\t,1\t,1\t,1\t,0],\n",
    "        [0,\t0,\t0\t,0\t,1\t,1\t,1\t,0],\n",
    "        [0,\t0,\t0\t,0\t,0\t,0\t,0\t,1],\n",
    "        [0,\t0,\t0\t,0\t,0\t,0\t,0\t,3],\n",
    "        [0,\t0,\t0\t,0\t,0\t,0\t,0\t,1],\n",
    "        [0,\t0,\t0\t,0\t,0\t,0\t,0\t,0]]\n",
    "\n",
    "g = Graph(graph)\n",
    "\n",
    "source = 0; sink = 7\n",
    "\n",
    "print (\"The maximum possible flow is  \" ,g.FordFulkerson(source, sink))\n",
    "\n",
    "# This code is contributed by Neelam Yadav"
   ]
  }
 ],
 "metadata": {
  "interpreter": {
   "hash": "3d7e5960b6ef161bc661270d1573209c16b82e83c903e34814b56dcc60ddca6c"
  },
  "kernelspec": {
   "display_name": "Python 3.7.6 64-bit",
   "language": "python",
   "name": "python3"
  },
  "language_info": {
   "codemirror_mode": {
    "name": "ipython",
    "version": 3
   },
   "file_extension": ".py",
   "mimetype": "text/x-python",
   "name": "python",
   "nbconvert_exporter": "python",
   "pygments_lexer": "ipython3",
   "version": "3.7.6"
  },
  "orig_nbformat": 4
 },
 "nbformat": 4,
 "nbformat_minor": 2
}

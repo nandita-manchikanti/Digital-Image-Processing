{
 "cells": [
  {
   "cell_type": "code",
   "execution_count": 1,
   "metadata": {},
   "outputs": [
    {
     "data": {
      "text/plain": [
       "<matplotlib.image.AxesImage at 0x228ffa25dc8>"
      ]
     },
     "execution_count": 1,
     "metadata": {},
     "output_type": "execute_result"
    },
    {
     "data": {
      "image/png": "[encoded data removed]",
      "text/plain": [
       "<Figure size 432x288 with 1 Axes>"
      ]
     },
     "metadata": {
      "needs_background": "light"
     },
     "output_type": "display_data"
    }
   ],
   "source": [
    "import numpy as np\n",
    "import cv2\n",
    "import matplotlib.pyplot as plt\n",
    "from PIL import Image \n",
    "\n",
    "array=np.array([[0,0,0],\n",
    "                [0,125,0],\n",
    "                [0,0,0]])\n",
    "image=Image.fromarray(array)\n",
    "plt.title(\"Original Image\")\n",
    "plt.imshow(image,cmap='gray')"
   ]
  },
  {
   "cell_type": "code",
   "execution_count": 19,
   "metadata": {},
   "outputs": [
    {
     "name": "stdout",
     "output_type": "stream",
     "text": [
      "[[  0   0   0]\n",
      " [125 125 125]\n",
      " [  0   0   0]]\n"
     ]
    },
    {
     "data": {
      "text/plain": [
       "<matplotlib.image.AxesImage at 0x228843b9948>"
      ]
     },
     "execution_count": 19,
     "metadata": {},
     "output_type": "execute_result"
    },
    {
     "data": {
      "image/png": "[encoded data removed]",
      "text/plain": [
       "<Figure size 432x288 with 1 Axes>"
      ]
     },
     "metadata": {
      "needs_background": "light"
     },
     "output_type": "display_data"
    }
   ],
   "source": [
    "rowprojection=np.sum(array,axis=1)\n",
    "rowprojection_img=np.array([rowprojection]*3)\n",
    "rowprojection_img=np.transpose(rowprojection_img)\n",
    "print(rowprojection_img)\n",
    "rowprojection_img=Image.fromarray(rowprojection_img)\n",
    "plt.title(\"Pr\")\n",
    "plt.imshow(rowprojection_img,cmap='gray')\n"
   ]
  },
  {
   "cell_type": "code",
   "execution_count": 25,
   "metadata": {},
   "outputs": [
    {
     "name": "stdout",
     "output_type": "stream",
     "text": [
      "[[  0 125   0]\n",
      " [  0 125   0]\n",
      " [  0 125   0]]\n"
     ]
    },
    {
     "data": {
      "text/plain": [
       "<matplotlib.image.AxesImage at 0x22884440448>"
      ]
     },
     "execution_count": 25,
     "metadata": {},
     "output_type": "execute_result"
    },
    {
     "data": {
      "image/png": "[encoded data removed]",
      "text/plain": [
       "<Figure size 432x288 with 1 Axes>"
      ]
     },
     "metadata": {
      "needs_background": "light"
     },
     "output_type": "display_data"
    }
   ],
   "source": [
    "colprojection=np.sum(array,axis=0)\n",
    "colprojection_img=np.array([colprojection,colprojection,colprojection])\n",
    "print(colprojection_img)\n",
    "\n",
    "pr_pc=colprojection_img+rowprojection_img\n",
    "\n",
    "pr_pc_image=Image.fromarray(pr_pc)\n",
    "plt.title(\"Pr+Pc\")\n",
    "plt.imshow(pr_pc_image,cmap='gray')"
   ]
  },
  {
   "cell_type": "code",
   "execution_count": 35,
   "metadata": {},
   "outputs": [
    {
     "name": "stdout",
     "output_type": "stream",
     "text": [
      "[0, 0, 125, 0, 0]\n",
      "[[  0. 125. 250.]\n",
      " [125. 500. 125.]\n",
      " [250. 125.   0.]]\n"
     ]
    },
    {
     "data": {
      "text/plain": [
       "<matplotlib.image.AxesImage at 0x228856afe48>"
      ]
     },
     "execution_count": 35,
     "metadata": {},
     "output_type": "execute_result"
    },
    {
     "data": {
      "image/png": "[encoded data removed]",
      "text/plain": [
       "<Figure size 432x288 with 1 Axes>"
      ]
     },
     "metadata": {
      "needs_background": "light"
     },
     "output_type": "display_data"
    }
   ],
   "source": [
    "projection45deg = []\n",
    "for i in range(-2,3):\n",
    "        projection45deg.append(np.trace(array,i))\n",
    "\n",
    "print(projection45deg)\n",
    "\n",
    "pr_pc_p45=np.zeros((3,3))\n",
    "\n",
    "for i in range(0,3):\n",
    "   for j in range(0,3):\n",
    "       pr_pc_p45[i][j]=pr_pc[i][j]+projection45deg[i+j]\n",
    "\n",
    "print(pr_pc_p45)\n",
    "pr_pc_p45_image=Image.fromarray(pr_pc_p45)\n",
    "plt.title(\"Pr+Pc+P45\")\n",
    "plt.imshow(pr_pc_p45_image,cmap='gray')\n"
   ]
  },
  {
   "cell_type": "code",
   "execution_count": 36,
   "metadata": {},
   "outputs": [
    {
     "name": "stdout",
     "output_type": "stream",
     "text": [
      "[0, 0, 125, 0, 0]\n",
      "[[  0. 125. 375.]\n",
      " [125. 625. 125.]\n",
      " [375. 125.   0.]]\n"
     ]
    },
    {
     "data": {
      "text/plain": [
       "<matplotlib.image.AxesImage at 0x22885705c08>"
      ]
     },
     "execution_count": 36,
     "metadata": {},
     "output_type": "execute_result"
    },
    {
     "data": {
      "image/png": "[encoded data removed]",
      "text/plain": [
       "<Figure size 432x288 with 1 Axes>"
      ]
     },
     "metadata": {
      "needs_background": "light"
     },
     "output_type": "display_data"
    }
   ],
   "source": [
    "projection135deg = []\n",
    "for i in range(2,-3,-1):\t\n",
    "        projection135deg.append(np.trace(array,i))\n",
    "\n",
    "print(projection135deg)\n",
    "pr_pc_p45_p135=np.zeros((3,3))\n",
    "\n",
    "for i in range(0,3):\n",
    "   for j in range(0,3):\n",
    "       pr_pc_p45_p135[i][j]=pr_pc_p45[i][j]+projection135deg[i+j]\n",
    "print(pr_pc_p45_p135)\n",
    "pr_pc_p45_p135_image=Image.fromarray(pr_pc_p45_p135)\n",
    "plt.title(\"Pr+Pc+P45+P135\")\n",
    "plt.imshow(pr_pc_p45_p135_image,cmap='gray')"
   ]
  }
 ],
 "metadata": {
  "interpreter": {
   "hash": "3d7e5960b6ef161bc661270d1573209c16b82e83c903e34814b56dcc60ddca6c"
  },
  "kernelspec": {
   "display_name": "Python 3.7.6 64-bit",
   "language": "python",
   "name": "python3"
  },
  "language_info": {
   "codemirror_mode": {
    "name": "ipython",
    "version": 3
   },
   "file_extension": ".py",
   "mimetype": "text/x-python",
   "name": "python",
   "nbconvert_exporter": "python",
   "pygments_lexer": "ipython3",
   "version": "3.7.6"
  },
  "orig_nbformat": 4
 },
 "nbformat": 4,
 "nbformat_minor": 2
}
